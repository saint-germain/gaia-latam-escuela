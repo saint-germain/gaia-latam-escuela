{
 "cells": [
  {
   "cell_type": "markdown",
   "metadata": {},
   "source": [
    "# Gaia (E)DR3: corrección del punto cere de la paralaje\n",
    "\n",
    "Este tutorial ilustra como pueden corregirse las paralajes de Gaia del sesgo de punto cero. En promedio las paralajes son $0.017 mas$ demasiado pequeñas, pero como puede verse en el artículo [Parallax bias versus magnitude, colour, and position, Lindegren et al (2021)](https://www.aanda.org/articles/aa/full_html/2021/05/aa39653-20/aa39653-20.html) este sesgo varia segun el tipo de solución astrométrica, la región del cielo, el color del objeto y su magnitud. En ese mismo artículo se desarrollaron herramientas en Python que permiten corregir este sesgo de forma individual para cada objeto teniendo en cuenta estas dependencias. El código Python para esta corrección está disponible en  [github](https://gitlab.com/icc-ub/public/gaiadr3_zeropoint) y este tutorial es una adaptación de los incluidos en el mismo.\n",
    "\n",
    "El tutorial usa una muestra de estrellas de varios tipos extraida del archivo de Gaia usando este comando ADQL:\n",
    "\n",
    "```\n",
    "select * from gaiaedr3.gaia_source\n",
    "where phot_g_mean_mag between 17.9 and 18.1\n",
    "and random_index between 700000000 and 701000000\n",
    "```\n",
    "\n",
    "El fichero resultante (ZPrandomG18.csv) se incluye en este tutorial y contiene 21594 fuentes, con una mezcla de los tres tipos de soluciones astrométricas: 2-p, 5-p y 6-p. Pueden tambiñen adaptar este comando para trabajar con su propio fichero.\n",
    "\n",
    "Al final de este tutorial se propone un ejercicio práctico usando cuásares.\n",
    "\n",
    "<hr>"
   ]
  },
  {
   "cell_type": "code",
   "execution_count": 24,
   "metadata": {},
   "outputs": [],
   "source": [
    "import numpy as np\n",
    "import pandas as pd\n",
    "\n",
    "import zpt\n",
    "zpt.load_tables()"
   ]
  },
  {
   "cell_type": "markdown",
   "metadata": {},
   "source": [
    "## Read the data"
   ]
  },
  {
   "cell_type": "code",
   "execution_count": 25,
   "metadata": {},
   "outputs": [],
   "source": [
    "data = pd.read_csv('ZPrandomG18.csv')\n",
    "\n",
    "gmag = data['phot_g_mean_mag'].values\n",
    "nueffused = data['nu_eff_used_in_astrometry'].values\n",
    "psc = data['pseudocolour'].values\n",
    "ecl_lat = data['ecl_lat'].values\n",
    "soltype = data['astrometric_params_solved'].values"
   ]
  },
  {
   "cell_type": "markdown",
   "metadata": {},
   "source": [
    "## Blindly use the get_zpt function"
   ]
  },
  {
   "cell_type": "markdown",
   "metadata": {},
   "source": [
    "Using the `get_zpt()` function blindly will fail if there are source with 2-p solutions in the input list. Thus the line of code below will lead to a runtime error."
   ]
  },
  {
   "cell_type": "code",
   "execution_count": 5,
   "metadata": {},
   "outputs": [
    {
     "ename": "ValueError",
     "evalue": "Some of the sources have an invalid number of the astrometric_params_solved and are not one of the two \n            possible values (31,95). Please provide an acceptable value.",
     "output_type": "error",
     "traceback": [
      "\u001b[1;31m---------------------------------------------------------------------------\u001b[0m",
      "\u001b[1;31mValueError\u001b[0m                                Traceback (most recent call last)",
      "\u001b[1;32m<ipython-input-5-7de6e21b77c2>\u001b[0m in \u001b[0;36m<module>\u001b[1;34m\u001b[0m\n\u001b[1;32m----> 1\u001b[1;33m \u001b[0mzpvals\u001b[0m \u001b[1;33m=\u001b[0m \u001b[0mzpt\u001b[0m\u001b[1;33m.\u001b[0m\u001b[0mget_zpt\u001b[0m\u001b[1;33m(\u001b[0m\u001b[0mgmag\u001b[0m\u001b[1;33m,\u001b[0m \u001b[0mnueffused\u001b[0m\u001b[1;33m,\u001b[0m \u001b[0mpsc\u001b[0m\u001b[1;33m,\u001b[0m \u001b[0mecl_lat\u001b[0m\u001b[1;33m,\u001b[0m \u001b[0msoltype\u001b[0m\u001b[1;33m)\u001b[0m\u001b[1;33m\u001b[0m\u001b[1;33m\u001b[0m\u001b[0m\n\u001b[0m",
      "\u001b[1;32mC:\\Google Drive\\UB\\Gaia\\Congressos i reunions\\Escuela LatAm 2022\\Tutorials\\Zero point\\zpt.py\u001b[0m in \u001b[0;36mget_zpt\u001b[1;34m(phot_g_mean_mag, nu_eff_used_in_astrometry, pseudocolour, ecl_lat, astrometric_params_solved, _warnings)\u001b[0m\n\u001b[0;32m    186\u001b[0m     \u001b[1;31m# check astrometric_params_solved\u001b[0m\u001b[1;33m\u001b[0m\u001b[1;33m\u001b[0m\u001b[1;33m\u001b[0m\u001b[0m\n\u001b[0;32m    187\u001b[0m     \u001b[1;32mif\u001b[0m \u001b[1;32mnot\u001b[0m \u001b[0mnp\u001b[0m\u001b[1;33m.\u001b[0m\u001b[0mall\u001b[0m\u001b[1;33m(\u001b[0m\u001b[1;33m(\u001b[0m\u001b[0mastrometric_params_solved\u001b[0m \u001b[1;33m==\u001b[0m \u001b[1;36m31\u001b[0m\u001b[1;33m)\u001b[0m \u001b[1;33m|\u001b[0m \u001b[1;33m(\u001b[0m\u001b[0mastrometric_params_solved\u001b[0m \u001b[1;33m==\u001b[0m \u001b[1;36m95\u001b[0m\u001b[1;33m)\u001b[0m\u001b[1;33m)\u001b[0m\u001b[1;33m:\u001b[0m\u001b[1;33m\u001b[0m\u001b[1;33m\u001b[0m\u001b[0m\n\u001b[1;32m--> 188\u001b[1;33m         raise ValueError(\n\u001b[0m\u001b[0;32m    189\u001b[0m             \"\"\"Some of the sources have an invalid number of the astrometric_params_solved and are not one of the two \n\u001b[0;32m    190\u001b[0m             possible values (31,95). Please provide an acceptable value.\"\"\")\n",
      "\u001b[1;31mValueError\u001b[0m: Some of the sources have an invalid number of the astrometric_params_solved and are not one of the two \n            possible values (31,95). Please provide an acceptable value."
     ]
    }
   ],
   "source": [
    "zpvals = zpt.get_zpt(gmag, nueffused, psc, ecl_lat, soltype)"
   ]
  },
  {
   "cell_type": "markdown",
   "metadata": {},
   "source": [
    "## Remove the 2-p solutions\n",
    "\n",
    "Re-running the line of above with the 2-p solution removed works. The code automatically deals with a mix of 5-p and 6-p solutions. However, note the warning."
   ]
  },
  {
   "cell_type": "code",
   "execution_count": 6,
   "metadata": {
    "scrolled": true
   },
   "outputs": [
    {
     "name": "stderr",
     "output_type": "stream",
     "text": [
      "C:\\Google Drive\\UB\\Gaia\\Congressos i reunions\\Escuela LatAm 2022\\Tutorials\\Zero point\\zpt.py:233: UserWarning: The pseudocolour of some of the 6p source(s) is outside the expected range (1.24-1.72 mag).\n",
      "                 The maximum corrections are reached already at 1.24 and 1.72\n",
      "  warnings.warn(\n"
     ]
    }
   ],
   "source": [
    "valid = soltype>3\n",
    "zpvals = zpt.get_zpt(gmag[valid], nueffused[valid], psc[valid], ecl_lat[valid], soltype[valid])"
   ]
  },
  {
   "cell_type": "markdown",
   "metadata": {},
   "source": [
    " "
   ]
  },
  {
   "cell_type": "markdown",
   "metadata": {},
   "source": [
    "As explained in Lindegren et al. 2020, the interpolations are only calibrated within the following intervals:\n",
    "\n",
    "1. $G$ magnitude: \n",
    "    6 < phot_g_mean_mag < 21\n",
    "2. Colour:\n",
    "    1. 1.1 < nu_eff_used_in_astrometry < 1.9 (5-p sources)\n",
    "    2. 1.24 < pseudocolour < 1.72 (6-p sources)\n",
    "        \n",
    "Outside these ranges, the zero-point obtained is an **extrapolation**."
   ]
  },
  {
   "cell_type": "markdown",
   "metadata": {},
   "source": [
    "### Try turning off the warnings\n",
    "\n",
    "This makes the code return NaN for the sources that fall outside the recomended limits, instead of an extrapolated zero point"
   ]
  },
  {
   "cell_type": "code",
   "execution_count": 7,
   "metadata": {},
   "outputs": [],
   "source": [
    "valid = soltype>3\n",
    "zpvals = zpt.get_zpt(gmag[valid], nueffused[valid], psc[valid], \n",
    "                     ecl_lat[valid], soltype[valid],_warnings=False)"
   ]
  },
  {
   "cell_type": "markdown",
   "metadata": {},
   "source": [
    "## Try scalars as input\n",
    "\n",
    "The code should also work for a single source. This is tested in the next code block."
   ]
  },
  {
   "cell_type": "code",
   "execution_count": 8,
   "metadata": {},
   "outputs": [],
   "source": [
    "#separate 5p and 6p sources\n",
    "fivep = (soltype==31)\n",
    "sixp = (soltype==95)"
   ]
  },
  {
   "cell_type": "code",
   "execution_count": 9,
   "metadata": {},
   "outputs": [
    {
     "name": "stdout",
     "output_type": "stream",
     "text": [
      "-0.025076\n",
      "-0.045967\n"
     ]
    }
   ],
   "source": [
    "#query the zero-point for individual stars\n",
    "zpvals5p = zpt.get_zpt(gmag[fivep][0], nueffused[fivep][0], psc[fivep][0], ecl_lat[fivep][0], soltype[fivep][0])\n",
    "print(zpvals5p)\n",
    "zpvals6p = zpt.get_zpt(gmag[sixp][0], nueffused[sixp][0], psc[sixp][0], ecl_lat[sixp][0], soltype[sixp][0])\n",
    "print(zpvals6p)"
   ]
  },
  {
   "cell_type": "markdown",
   "metadata": {},
   "source": [
    "## Mix of input variable lengths\n",
    "\n",
    "*This should fail.*"
   ]
  },
  {
   "cell_type": "code",
   "execution_count": 10,
   "metadata": {},
   "outputs": [
    {
     "ename": "ValueError",
     "evalue": "Dimension mismatch! At least one of the inputs has a different shape than the rest.",
     "output_type": "error",
     "traceback": [
      "\u001b[1;31m---------------------------------------------------------------------------\u001b[0m",
      "\u001b[1;31mValueError\u001b[0m                                Traceback (most recent call last)",
      "\u001b[1;32m<ipython-input-10-728d5676f47a>\u001b[0m in \u001b[0;36m<module>\u001b[1;34m\u001b[0m\n\u001b[1;32m----> 1\u001b[1;33m \u001b[0mzpvals5p\u001b[0m \u001b[1;33m=\u001b[0m \u001b[0mzpt\u001b[0m\u001b[1;33m.\u001b[0m\u001b[0mget_zpt\u001b[0m\u001b[1;33m(\u001b[0m\u001b[0mgmag\u001b[0m\u001b[1;33m[\u001b[0m\u001b[0mfivep\u001b[0m\u001b[1;33m]\u001b[0m\u001b[1;33m[\u001b[0m\u001b[1;36m0\u001b[0m\u001b[1;33m]\u001b[0m\u001b[1;33m,\u001b[0m \u001b[0mnueffused\u001b[0m\u001b[1;33m[\u001b[0m\u001b[0mfivep\u001b[0m\u001b[1;33m]\u001b[0m\u001b[1;33m[\u001b[0m\u001b[1;36m0\u001b[0m\u001b[1;33m:\u001b[0m\u001b[1;36m2\u001b[0m\u001b[1;33m]\u001b[0m\u001b[1;33m,\u001b[0m \u001b[0mpsc\u001b[0m\u001b[1;33m[\u001b[0m\u001b[0mfivep\u001b[0m\u001b[1;33m]\u001b[0m\u001b[1;33m[\u001b[0m\u001b[1;36m0\u001b[0m\u001b[1;33m]\u001b[0m\u001b[1;33m,\u001b[0m \u001b[0mecl_lat\u001b[0m\u001b[1;33m[\u001b[0m\u001b[0mfivep\u001b[0m\u001b[1;33m]\u001b[0m\u001b[1;33m[\u001b[0m\u001b[1;36m0\u001b[0m\u001b[1;33m]\u001b[0m\u001b[1;33m,\u001b[0m \u001b[0msoltype\u001b[0m\u001b[1;33m[\u001b[0m\u001b[0mfivep\u001b[0m\u001b[1;33m]\u001b[0m\u001b[1;33m[\u001b[0m\u001b[1;36m0\u001b[0m\u001b[1;33m]\u001b[0m\u001b[1;33m)\u001b[0m\u001b[1;33m\u001b[0m\u001b[1;33m\u001b[0m\u001b[0m\n\u001b[0m\u001b[0;32m      2\u001b[0m \u001b[0mprint\u001b[0m\u001b[1;33m(\u001b[0m\u001b[0mzpvals5p\u001b[0m\u001b[1;33m)\u001b[0m\u001b[1;33m\u001b[0m\u001b[1;33m\u001b[0m\u001b[0m\n",
      "\u001b[1;32mC:\\Google Drive\\UB\\Gaia\\Congressos i reunions\\Escuela LatAm 2022\\Tutorials\\Zero point\\zpt.py\u001b[0m in \u001b[0;36mget_zpt\u001b[1;34m(phot_g_mean_mag, nu_eff_used_in_astrometry, pseudocolour, ecl_lat, astrometric_params_solved, _warnings)\u001b[0m\n\u001b[0;32m    180\u001b[0m             \u001b[0mphot_g_mean_mag\u001b[0m\u001b[1;33m.\u001b[0m\u001b[0mshape\u001b[0m \u001b[1;33m==\u001b[0m \u001b[0mnu_eff_used_in_astrometry\u001b[0m\u001b[1;33m.\u001b[0m\u001b[0mshape\u001b[0m \u001b[1;33m==\u001b[0m \u001b[0mpseudocolour\u001b[0m\u001b[1;33m.\u001b[0m\u001b[0mshape\u001b[0m \u001b[1;33m==\u001b[0m \u001b[0mecl_lat\u001b[0m\u001b[1;33m.\u001b[0m\u001b[0mshape\u001b[0m \u001b[1;33m==\u001b[0m\u001b[1;33m\u001b[0m\u001b[1;33m\u001b[0m\u001b[0m\n\u001b[0;32m    181\u001b[0m             astrometric_params_solved.shape):\n\u001b[1;32m--> 182\u001b[1;33m         \u001b[1;32mraise\u001b[0m \u001b[0mValueError\u001b[0m\u001b[1;33m(\u001b[0m\u001b[1;34m\"Dimension mismatch! At least one of the inputs has a different shape than the rest.\"\u001b[0m\u001b[1;33m)\u001b[0m\u001b[1;33m\u001b[0m\u001b[1;33m\u001b[0m\u001b[0m\n\u001b[0m\u001b[0;32m    183\u001b[0m \u001b[1;33m\u001b[0m\u001b[0m\n\u001b[0;32m    184\u001b[0m     \u001b[1;31m# ###### HERE ALL VARIABLES SHOULD BE CORRECT ########\u001b[0m\u001b[1;33m\u001b[0m\u001b[1;33m\u001b[0m\u001b[1;33m\u001b[0m\u001b[0m\n",
      "\u001b[1;31mValueError\u001b[0m: Dimension mismatch! At least one of the inputs has a different shape than the rest."
     ]
    }
   ],
   "source": [
    "zpvals5p = zpt.get_zpt(gmag[fivep][0], nueffused[fivep][0:2], psc[fivep][0], ecl_lat[fivep][0], soltype[fivep][0])\n",
    "print(zpvals5p)"
   ]
  },
  {
   "cell_type": "markdown",
   "metadata": {},
   "source": [
    "## Using the Pandas wrapper\n",
    "\n",
    "If you have pandas installed and work with DataFrames, you can use the wrapper provided with the package.\n",
    "\n",
    "**NOTE**: This way of computing the zero point is slower than using the *get_zpt()* function. Also, it returns NaN outside interpolation limits."
   ]
  },
  {
   "cell_type": "code",
   "execution_count": 11,
   "metadata": {},
   "outputs": [],
   "source": [
    "data_valid = data.query('astrometric_params_solved>3').copy()"
   ]
  },
  {
   "cell_type": "code",
   "execution_count": 12,
   "metadata": {},
   "outputs": [],
   "source": [
    "data_valid['zpt'] = data_valid.apply(zpt.zpt_wrapper,axis=1)"
   ]
  },
  {
   "cell_type": "code",
   "execution_count": 13,
   "metadata": {},
   "outputs": [
    {
     "data": {
      "text/plain": [
       "0       -0.045967\n",
       "1       -0.022748\n",
       "2             NaN\n",
       "3       -0.025076\n",
       "4       -0.026733\n",
       "           ...   \n",
       "21589         NaN\n",
       "21590   -0.026660\n",
       "21591   -0.027001\n",
       "21592   -0.026327\n",
       "21593   -0.026660\n",
       "Name: zpt, Length: 21283, dtype: float64"
      ]
     },
     "execution_count": 13,
     "metadata": {},
     "output_type": "execute_result"
    }
   ],
   "source": [
    "data_valid.zpt"
   ]
  },
  {
   "cell_type": "code",
   "execution_count": 12,
   "metadata": {},
   "outputs": [
    {
     "data": {
      "image/png": "[encoded data removed]",
      "text/plain": [
       "<Figure size 720x360 with 2 Axes>"
      ]
     },
     "metadata": {
      "needs_background": "light"
     },
     "output_type": "display_data"
    }
   ],
   "source": [
    "data_valid.hist(column='zpt',by='astrometric_params_solved',figsize=(10,5),sharex=True,bins=50);"
   ]
  },
  {
   "cell_type": "markdown",
   "metadata": {},
   "source": [
    "## Ejercicio\n",
    "\n",
    "La tabla _frame_rotator_source_ del archivo EDR3 de Gaia contiene una lista de identificadores para 429,249 fuentes que se han clasificado como cuásares. Cruzando esta tabla con la tabla principal de EDR3 _gaia_source_ podemos extraer la inforación que necesitamos para estos objetos:\n",
    "\n",
    "    select QSO.source_id, G.parallax, G.parallax_error, G.phot_g_mean_mag, G.nu_eff_used_in_astrometry, \n",
    "           G.pseudocolour, G.ecl_lat, G.astrometric_params_solved\n",
    "    from gaiaedr3.frame_rotator_source as QSO\n",
    "    JOIN gaiaedr3.gaia_source as G\n",
    "    using (source_id)\n",
    "\n",
    "En este tutorial proporcionamos el resultado en el fichero _QSO_Data.csv_. \n",
    "\n",
    "Usando estos datos podemos comprobar como la corrección que hemos presentado elimina casi totalmente el sesgo de punto cero:\n",
    "\n",
    "1. Hacer un histograma y un [QQ-plot](https://docs.scipy.org/doc/scipy/reference/generated/scipy.stats.probplot.html) de las paralajes normalizadas ($\\varpi/\\sigma_\\varpi$) para comprobar que su distribución es muy aproximadamente normal \n",
    "2. Calcular la media de las paralajes sin corrección y con corrección \n",
    "\n",
    "En el primer caso la media es aproximadamente $-0.017mas$, mientras que en el segundo es casi cero. Con esto se comprueba la validez de la corrección, puesto que los cuásares (debido a su gran distancia) tienen paralajes de valor cero, por lo que la media debe acercarse a este valor."
   ]
  },
  {
   "cell_type": "code",
   "execution_count": null,
   "metadata": {},
   "outputs": [],
   "source": []
  }
 ],
 "metadata": {
  "kernelspec": {
   "display_name": "Python 3",
   "language": "python",
   "name": "python3"
  },
  "language_info": {
   "codemirror_mode": {
    "name": "ipython",
    "version": 3
   },
   "file_extension": ".py",
   "mimetype": "text/x-python",
   "name": "python",
   "nbconvert_exporter": "python",
   "pygments_lexer": "ipython3",
   "version": "3.8.8"
  }
 },
 "nbformat": 4,
 "nbformat_minor": 4
}
