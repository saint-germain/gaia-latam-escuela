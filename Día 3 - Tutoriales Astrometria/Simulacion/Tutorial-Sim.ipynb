{
 "cells": [
  {
   "cell_type": "markdown",
   "id": "a93dbdd3",
   "metadata": {},
   "source": [
    "# Simulacion de catálogos con errores astrométricos de Gaia\n",
    "\n",
    "El objetivo de este tutorial es mostrar como pueden obtenerse simulaciones de la astrometria de Gaia. Este tipo de simulaciones permiten entender y analizar los efectos de los errores observacionales y la selección de la muestra en los parámetros de la población de base, evaluando así sesgos y efectos sistemáticos que se puedan estar introduciendo.\n",
    "\n",
    "El punto de partida es la simulacion [GUMS](https://gea.esac.esa.int/archive/documentation/GEDR3/Gaia_archive/chap_datamodel/sec_dm_simulation_tables/ssec_dm_gaia_universe_model.html) que se encuentra en la tabla _gaia_universe_model_ del archivo de Gaia. Esta simulación está basada en un [modelo de galaxia](https://ui.adsabs.harvard.edu/abs/2012A%26A...543A.100R/abstract) con el que se ha generado una \"galaxia virtual\", con objetos para los que disponemos de valores astrométricos libres de error (simulacion ideal).\n",
    "\n",
    "A partir de esta simulación, en este tutorial aprenderemos a añadir a la astrometria \"ideal\" errores observacionales  similares a los de EDR3 usando el paquete _pygaia_; de esta forma generaremos observaciones de Gaia simuladas y con ellas podremos estudiar los efectos de los errores observacionales y de las selecciones realizadas en la muestra. Este procedimiento os permitirá generar simulaciones de Gaia basadas en vuestros propios modelos estelares.\n",
    "\n",
    "El archivo de Gaia también proporciona una simulación completa del catálogo llamada [GOG](https://gea.esac.esa.int/archive/documentation/GEDR3/Gaia_archive/chap_datamodel/sec_dm_simulation_tables/ssec_dm_gaia_universe_model.html) que se encuentra en la tabla _gaia_source_simulation_. Esta simulación está basada en GUMS, con todos los efectos observacionales añadidos, de manera que usando conjuntamente GUMS y GOG pueden también realizarse este tipo de estudios de forma más completa (ver por ejemplo el tutorial [Estimación de distancias a partir de las paralajes](./EstimacionDistancias/Tutorial-ED.ipynb))."
   ]
  },
  {
   "cell_type": "code",
   "execution_count": 6,
   "id": "021f04ee",
   "metadata": {},
   "outputs": [],
   "source": [
    "import pandas as pd\n",
    "import numpy as np\n",
    "import matplotlib.pyplot as plt\n",
    "\n",
    "from pygaia.errors.astrometric import *"
   ]
  },
  {
   "cell_type": "markdown",
   "id": "b48e835d",
   "metadata": {},
   "source": [
    "## Obtención de la simulación\n",
    "\n",
    "Seleccionaremos una muestra a partir de GUMS recortando una sección del cielo:\n",
    "\n",
    "    select U.ra, U.dec, U.barycentric_distance, U.pmra, U.pmdec, U.mag_g, U.mean_absolute_v\n",
    "    from gaiaedr3.gaia_universe_model as U\n",
    "    where U.ra>0 and U.ra<10 and U.dec>0.0 and U.dec<10 and U.mean_absolute_v>5 and U.mean_absolute_v<6  and U.mag_g<20\n",
    "\n",
    "La muestra puede encontrarse en el fichero _GUMS.csv_ (11329 objetos). Nótese que este comando ADQL selecciona una muestra con:\n",
    "\n",
    "* $0 < \\alpha < 10$ y $0 < \\delta < 10$ (selección de región del cielo)\n",
    "* $G<20$ (corte en magnitud aparente)\n",
    "* $5 < M_v < 6$ (corte en magnitud absoluta V para tener una selección más homogenea de estrellas en el diagrama HR)"
   ]
  },
  {
   "cell_type": "code",
   "execution_count": 2,
   "id": "e6dcdf5b",
   "metadata": {},
   "outputs": [],
   "source": [
    "data = pd.read_csv('GUMS.csv')\n",
    "\n",
    "ra= data['ra'].values # en deg\n",
    "dec= data['dec'].values # en deg\n",
    "distance= data['barycentric_distance'].values # en pc\n",
    "parallax= 1000./distance # in mas\n",
    "pmra= data['pmra'].values # en mas/yr\n",
    "pmdec= data['pmdec'].values # en mas/yr\n",
    "mag_g= data['mag_g'].values # en mag"
   ]
  },
  {
   "cell_type": "markdown",
   "id": "0214b0fb",
   "metadata": {},
   "source": [
    "Generamos a continuación algunos histogramas para caracterizar la muestra seleccionada."
   ]
  },
  {
   "cell_type": "code",
   "execution_count": 5,
   "id": "68c7949d",
   "metadata": {},
   "outputs": [
    {
     "data": {
      "image/png": "[encoded data removed]",
      "text/plain": [
       "<Figure size 1080x360 with 2 Axes>"
      ]
     },
     "metadata": {
      "needs_background": "light"
     },
     "output_type": "display_data"
    }
   ],
   "source": [
    "plt.rcParams[\"figure.figsize\"] = (15,5)\n",
    "\n",
    "plt.subplot(1,2,1)\n",
    "plt.xlabel(\"Distancia (pc)\")\n",
    "plt.xlim(0,15000) # Limitamos el eje X para visualizar mejor la zona central\n",
    "plt.hist(distance,100)\n",
    "\n",
    "plt.subplot(1,2,2)\n",
    "plt.xlabel(\"G\")\n",
    "plt.xlim(8,20) # Limitamos el eje X para visualizar mejor la zona central\n",
    "plt.hist(mag_g,100)\n",
    "plt.show()"
   ]
  },
  {
   "cell_type": "markdown",
   "id": "e23d79df",
   "metadata": {},
   "source": [
    "## Añadimos los errores\n",
    "\n",
    "Usamos las funciones de _pygaia.errors.astrometric_ para calcular los errores formales de la astrometria\n",
    "$( \\sigma_\\alpha, \\sigma_\\delta, \\sigma_\\varpi, \\sigma_{\\mu_\\alpha}, \\sigma_{\\mu_\\delta} )$. A partir de ellos, asumiendo distribuciones de error gausianas, generamos errores individuales para cada valor."
   ]
  },
  {
   "cell_type": "code",
   "execution_count": 7,
   "id": "632d6720",
   "metadata": {},
   "outputs": [],
   "source": [
    "# Calculamos los errores formales en función de la magnitud G\n",
    "ra_error, dec_error = position_uncertainty(mag_g, release='dr3') # en muas\n",
    "ra_error= ra_error/(3600*1000000) # en deg\n",
    "dec_error= dec_error/(3600*1000000) # en deg\n",
    "\n",
    "parallax_error = parallax_uncertainty(mag_g, release='dr3')/1000 # en mas\n",
    "pmra_error, pmdec_error = proper_motion_uncertainty(mag_g, release='dr3') # en muas/yr\n",
    "pmra_error= pmra_error/1000 # en mas/yr\n",
    "pmdec_error= pmdec_error/1000 # en mas/yr\n",
    "\n",
    "\n",
    "# Generamos valores observacionales individuales a partir de los valores simulados (sin error)\n",
    "# asumiendo una distribución de error gausiana\n",
    "ra_obs = np.random.normal(ra, ra_error)\n",
    "ra_dec = np.random.normal(dec, dec_error)\n",
    "\n",
    "parallax_obs= np.random.normal(parallax,parallax_error) # in mas\n",
    "\n",
    "pmra_obs= np.random.normal(pmra,pmra_error) # in mas/yr\n",
    "pmdec_obs= np.random.normal(pmdec,pmdec_error) # in mas/yr"
   ]
  },
  {
   "cell_type": "markdown",
   "id": "a32185a8",
   "metadata": {},
   "source": [
    "Generamos histogramas de paralajes, real / observada para comparación. Nótese que han aparecido paralajes observadas negativas, mientras que las \"reales\" son siempre positivas como corresponde."
   ]
  },
  {
   "cell_type": "code",
   "execution_count": 9,
   "id": "941e2757",
   "metadata": {},
   "outputs": [
    {
     "data": {
      "image/png": "[encoded data removed]",
      "text/plain": [
       "<Figure size 1080x360 with 2 Axes>"
      ]
     },
     "metadata": {
      "needs_background": "light"
     },
     "output_type": "display_data"
    }
   ],
   "source": [
    "plt.rcParams[\"figure.figsize\"] = (15,5)\n",
    "\n",
    "plt.subplot(1,2,1)\n",
    "plt.xlabel(\"Paralaje real (mas)\")\n",
    "plt.xlim(-2,10) # Limitamos el eje X para visualizar mejor la zona central\n",
    "plt.hist(parallax,200)\n",
    "\n",
    "plt.subplot(1,2,2)\n",
    "plt.xlabel(\"Paralaje observada (mas)\")\n",
    "plt.xlim(-2,10) # Limitamos el eje X para visualizar mejor la zona central\n",
    "plt.hist(parallax_obs,200)\n",
    "plt.show()"
   ]
  },
  {
   "cell_type": "markdown",
   "id": "2bc64f44",
   "metadata": {},
   "source": [
    "## Ejercicio\n",
    "\n",
    "A partir de la muestra anterior (o vuestra propia selección en el archivo), realizar los siguientes cortes:\n",
    "\n",
    "* Eliminar las paralajes negativas\n",
    "* Seleccionar solo las estrellas con paralajes de buena calidad: $\\varpi/\\sigma_\\varpi > 5$\n",
    "* Seleccionar solo las estrellas con paralajes de excelentes: $\\varpi/\\sigma_\\varpi > 10$\n",
    "\n",
    "Comprobar como estas selecciones afectan a la distribucion de distancias reales, a la distribución de magnitud G y a la distribución de movimientos propios."
   ]
  },
  {
   "cell_type": "markdown",
   "id": "5a57b5fd",
   "metadata": {},
   "source": [
    "## Lectura recomendada\n",
    "    \n",
    "[Inferring luminosity from a magnitude limited parallax survey](https://github.com/agabrown/astrometry-inference-tutorials/blob/master/luminosity-calibration/Luminosity_Inference_DistPrior.ipynb)    "
   ]
  },
  {
   "cell_type": "code",
   "execution_count": null,
   "id": "b9c4c48c",
   "metadata": {},
   "outputs": [],
   "source": []
  }
 ],
 "metadata": {
  "kernelspec": {
   "display_name": "Python 3",
   "language": "python",
   "name": "python3"
  },
  "language_info": {
   "codemirror_mode": {
    "name": "ipython",
    "version": 3
   },
   "file_extension": ".py",
   "mimetype": "text/x-python",
   "name": "python",
   "nbconvert_exporter": "python",
   "pygments_lexer": "ipython3",
   "version": "3.8.8"
  }
 },
 "nbformat": 4,
 "nbformat_minor": 5
}
