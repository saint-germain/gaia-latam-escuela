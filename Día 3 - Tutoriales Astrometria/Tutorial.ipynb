{
 "cells": [
  {
   "cell_type": "markdown",
   "id": "ed5d1c51",
   "metadata": {},
   "source": [
    "<img src=\"LogoGaia.png\" alt=\"Gaia\" width=\"200\"/>\n",
    "\n",
    "# 1ra Escuela Latinoamericana de Gaia - UdeA\n",
    "\n",
    "## Tutorial sobre astrometría\n",
    "\n",
    "Este tutorial consta de tres secciones, organizadas en tres carpetas que pueden descargarse de forma independiente:\n",
    "\n",
    "1. [Simulación de la astrometria de Gaia](./Simulacion/Tutorial-Sim.ipynb) $\\longrightarrow$ [solución](./Simulacion/Tutorial-Sim-Solucion.ipynb)\n",
    "\n",
    "2. [Estimación de distancias a partir de las paralajes](./EstimacionDistancias/Tutorial-ED.ipynb) $\\longrightarrow$ [solución](./EstimacionDistancias/Tutorial-ED-Solucion.ipynb)\n",
    "\n",
    "3. [Corrección del punto cero de las paralajes](./PuntoCero/Tutorial-PC.ipynb) $\\longrightarrow$ [solución](./PuntoCero/Tutorial-PC-Solucion.ipynb)\n",
    "\n",
    "Estos tutoriales han sido extraidos de otros mas amplios desarrollados en artículos del consorcio DPAC. Los lectores interesados pueden consultar también estos recursos:\n",
    "\n",
    "* [Using Gaia parallaxes, Luri et al. (2018)](https://www.aanda.org/articles/aa/full_html/2018/08/aa32964-18/aa32964-18.html) + Tutoriales en [github](https://github.com/agabrown/astrometry-inference-tutorials)\n",
    "* [Parallax bias versus magnitude, colour, and position, Lindegren et al (2021)](https://www.aanda.org/articles/aa/full_html/2021/05/aa39653-20/aa39653-20.html) + Tutoriales en [github](https://gitlab.com/icc-ub/public/gaiadr3_zeropoint)"
   ]
  },
  {
   "cell_type": "code",
   "execution_count": null,
   "id": "2ef60ae6",
   "metadata": {},
   "outputs": [],
   "source": []
  }
 ],
 "metadata": {
  "kernelspec": {
   "display_name": "Python 3",
   "language": "python",
   "name": "python3"
  },
  "language_info": {
   "codemirror_mode": {
    "name": "ipython",
    "version": 3
   },
   "file_extension": ".py",
   "mimetype": "text/x-python",
   "name": "python",
   "nbconvert_exporter": "python",
   "pygments_lexer": "ipython3",
   "version": "3.8.8"
  }
 },
 "nbformat": 4,
 "nbformat_minor": 5
}
